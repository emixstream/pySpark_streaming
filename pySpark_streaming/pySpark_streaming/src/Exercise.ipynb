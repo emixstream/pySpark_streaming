{
 "cells": [
  {
   "cell_type": "code",
   "execution_count": null,
   "metadata": {},
   "outputs": [],
   "source": [
    "#this cell creates a Spark Session object that is used to interact with Spark\n",
    "from pyspark.sql import SparkSession\n",
    "ss = SparkSession.builder \\\n",
    ".config('spark.jars.packages', 'org.apache.kafka:kafka_2.11:1.1.1,org.apache.spark:spark-sql-kafka-0-10_2.11:2.4.4') \\\n",
    ".getOrCreate()\n",
    "ss.version\n",
    "# version 2.4.4 uses Scala 2.11"
   ]
  },
  {
   "cell_type": "code",
   "execution_count": null,
   "metadata": {},
   "outputs": [],
   "source": [
    "brokers = 'kafka:9092'"
   ]
  },
  {
   "cell_type": "code",
   "execution_count": null,
   "metadata": {},
   "outputs": [],
   "source": [
    "df=(ss\n",
    "  .readStream\n",
    "  .format(\"kafka\")\n",
    "  .option(\"kafka.bootstrap.servers\",brokers)\n",
    "  .option(\"value.serializer\", \"org.apache.kafka.common.serialization.StringSerializer\")\n",
    "  .option(\"subscribe\", \"my_topic\")\n",
    "  .option(\"startingOffsets\", \"earliest\") # read data from the beginning of the stream\n",
    "  .load())"
   ]
  },
  {
   "cell_type": "code",
   "execution_count": null,
   "metadata": {},
   "outputs": [],
   "source": [
    "df.printSchema()"
   ]
  },
  {
   "cell_type": "code",
   "execution_count": null,
   "metadata": {},
   "outputs": [],
   "source": [
    "from pyspark.sql.types import StringType, StructField, StructType, IntegerType, TimestampType, BooleanType\n",
    "mySchema = StructType([\n",
    "            StructField(\"name\", StringType(), True),\n",
    "            StructField(\"id\", StringType(), True),\n",
    "            StructField(\"firstname\", IntegerType(), True),\n",
    "            StructField(\"lastname\", StringType(), True),\n",
    "            StructField(\"address\", StringType(), True),\n",
    "            StructField(\"timestamp\", TimestampType(), True),\n",
    "            StructField(\"gender\", StringType(), True),\n",
    "            StructField(\"arrested\", BooleanType(), True),\n",
    "            StructField(\"age\", IntegerType(), True),\n",
    "            StructField(\"race\", StringType(), True)\n",
    "])\n",
    "\n",
    "\n"
   ]
  },
  {
   "cell_type": "code",
   "execution_count": null,
   "metadata": {},
   "outputs": [],
   "source": [
    "from pyspark.sql.functions import from_json\n",
    "\n",
    "df1 =(df.selectExpr(\"CAST(value AS STRING)\", \"CAST(timestamp AS TIMESTAMP)\")\n",
    "  .select(from_json(\"value\", mySchema).alias(\"data\"), \"timestamp\")\n",
    "  .select(\"data.race\",\n",
    "          \"data.gender\", \n",
    "          \"data.lastname\", \n",
    "          \"data.firstname\", \n",
    "          \"data.arrested\", \n",
    "          \"data.age\", \"timestamp\"))"
   ]
  },
  {
   "cell_type": "code",
   "execution_count": null,
   "metadata": {},
   "outputs": [],
   "source": [
    "df1.printSchema()"
   ]
  },
  {
   "cell_type": "code",
   "execution_count": null,
   "metadata": {},
   "outputs": [],
   "source": [
    "## create your own streaming query\n",
    "df1.createOrReplaceTempView(\"mytable\")\n",
    "df2 =ss.sql(''' XXXXXXXXX  ''')"
   ]
  },
  {
   "cell_type": "code",
   "execution_count": null,
   "metadata": {},
   "outputs": [],
   "source": [
    "\n",
    "streamingQuery1 = df2.writeStream \\\n",
    "  .outputMode(\"complete\") \\\n",
    "  .format(\"memory\") \\\n",
    "  .queryName(\"test\") \\\n",
    "  .option(\"truncate\", \"false\") \\\n",
    "  .trigger(processingTime = \"15 seconds\")\\\n",
    "  .start()"
   ]
  },
  {
   "cell_type": "code",
   "execution_count": null,
   "metadata": {},
   "outputs": [],
   "source": [
    "import time\n",
    "for i in range(5):\n",
    "    time.sleep(15)\n",
    "    print(f'Batch number {i}')\n",
    "    ss.sql('select * from test').show()"
   ]
  },
  {
   "cell_type": "code",
   "execution_count": null,
   "metadata": {},
   "outputs": [],
   "source": [
    "streamingQuery1.stop()"
   ]
  }
 ],
 "metadata": {
  "kernelspec": {
   "display_name": "Python 3",
   "language": "python",
   "name": "python3"
  },
  "language_info": {
   "codemirror_mode": {
    "name": "ipython",
    "version": 3
   },
   "file_extension": ".py",
   "mimetype": "text/x-python",
   "name": "python",
   "nbconvert_exporter": "python",
   "pygments_lexer": "ipython3",
   "version": "3.8.5"
  }
 },
 "nbformat": 4,
 "nbformat_minor": 2
}
